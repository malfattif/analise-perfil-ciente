{
 "cells": [
  {
   "cell_type": "code",
   "execution_count": 1,
   "metadata": {},
   "outputs": [
    {
     "name": "stderr",
     "output_type": "stream",
     "text": [
      "c:\\program files\\python3\\lib\\site-packages\\sklearn\\ensemble\\weight_boosting.py:29: DeprecationWarning: numpy.core.umath_tests is an internal NumPy module and should not be imported. It will be removed in a future NumPy release.\n",
      "  from numpy.core.umath_tests import inner1d\n"
     ]
    }
   ],
   "source": [
    "import pandas as pd\n",
    "from sklearn.neighbors import KNeighborsClassifier\n",
    "from sklearn.model_selection import train_test_split\n",
    "from sklearn.metrics import confusion_matrix\n",
    "from sklearn.metrics import precision_score\n",
    "from sklearn.ensemble import RandomForestClassifier"
   ]
  },
  {
   "cell_type": "code",
   "execution_count": 2,
   "metadata": {},
   "outputs": [],
   "source": [
    "def print_confusion_matrix(y_test, y_predict):\n",
    "    mat = confusion_matrix(y_test, y_predict)\n",
    "    print(\"Matriz de confusão: \\n\"+str(mat))"
   ]
  },
  {
   "cell_type": "code",
   "execution_count": 3,
   "metadata": {},
   "outputs": [],
   "source": [
    "def  print_score(x_test, y_test, classifier):\n",
    "    acuracia = classifier.score(x_test, y_test)\n",
    "    print(\"Acurácia: \"+str(acuracia*100)+\"%\")"
   ]
  },
  {
   "cell_type": "code",
   "execution_count": 4,
   "metadata": {},
   "outputs": [],
   "source": [
    "clientes = pd.read_csv('clientes.csv', sep=';')"
   ]
  },
  {
   "cell_type": "code",
   "execution_count": 5,
   "metadata": {},
   "outputs": [],
   "source": [
    "clientes['ticket_medio'] = (clientes['valor_total_ticket'] / clientes['recorrencia']).round(decimals=2)\n",
    "\n",
    "clientes.drop(columns=['valor_total_ticket', 'recorrencia', 'cliente'], inplace=True)"
   ]
  },
  {
   "cell_type": "code",
   "execution_count": 6,
   "metadata": {},
   "outputs": [],
   "source": [
    "treino = clientes.dropna()"
   ]
  },
  {
   "cell_type": "code",
   "execution_count": 7,
   "metadata": {},
   "outputs": [],
   "source": [
    "y_treino = treino['perfil']\n",
    "x_treino = treino.drop(columns=['perfil'])"
   ]
  },
  {
   "cell_type": "code",
   "execution_count": 8,
   "metadata": {},
   "outputs": [],
   "source": [
    "x_train, x_test, y_train, y_test = train_test_split(x_treino, y_treino, test_size=0.3, random_state=0)"
   ]
  },
  {
   "cell_type": "code",
   "execution_count": 9,
   "metadata": {},
   "outputs": [],
   "source": [
    "#KNN CLASSIFIER\n",
    "knnClassifier = KNeighborsClassifier(n_neighbors=3) \n",
    "knnClassifier.fit(x_train, y_train)\n",
    "y_predict = knnClassifier.predict(x_test)"
   ]
  },
  {
   "cell_type": "code",
   "execution_count": 10,
   "metadata": {},
   "outputs": [],
   "source": [
    "y_predict = knnClassifier.predict(x_test)"
   ]
  },
  {
   "cell_type": "code",
   "execution_count": 11,
   "metadata": {},
   "outputs": [
    {
     "name": "stdout",
     "output_type": "stream",
     "text": [
      "------------------------- KNN -------------------------\n",
      "Matriz de confusão: \n",
      "[[15  0  0]\n",
      " [ 0 51 12]\n",
      " [ 0 11 61]]\n",
      "\n",
      "Acurácia: 84.66666666666667%\n",
      "------------------------- KNN -------------------------\n"
     ]
    }
   ],
   "source": [
    "print(\"------------------------- KNN -------------------------\")\n",
    "print_confusion_matrix(y_test, y_predict)\n",
    "print(\"\")\n",
    "print_score(x_test, y_test, knnClassifier)\n",
    "print(\"------------------------- KNN -------------------------\")"
   ]
  },
  {
   "cell_type": "code",
   "execution_count": 12,
   "metadata": {},
   "outputs": [],
   "source": [
    "#RANDOM FOREST CLASSIFIER\n",
    "classifier = RandomForestClassifier(n_estimators = 100)\n",
    "classifier = classifier.fit(x_train, y_train)\n",
    "y_predict = classifier.predict(x_test)"
   ]
  },
  {
   "cell_type": "code",
   "execution_count": 13,
   "metadata": {},
   "outputs": [
    {
     "name": "stdout",
     "output_type": "stream",
     "text": [
      "------------------------- RANDOM FOREST -------------------------\n",
      "Matriz de confusão: \n",
      "[[15  0  0]\n",
      " [ 0 58  5]\n",
      " [ 0 10 62]]\n",
      "\n",
      "Acurácia: 90.0%\n",
      "------------------------- RANDOM FOREST -------------------------\n"
     ]
    }
   ],
   "source": [
    "print(\"------------------------- RANDOM FOREST -------------------------\")\n",
    "print_confusion_matrix(y_test, y_predict)\n",
    "print(\"\")\n",
    "print_score(x_test,y_test, classifier)\n",
    "print(\"------------------------- RANDOM FOREST -------------------------\")"
   ]
  },
  {
   "cell_type": "code",
   "execution_count": 14,
   "metadata": {},
   "outputs": [],
   "source": [
    "cliente_final = clientes[ clientes['perfil'].isnull() ]\n",
    "cliente_final= cliente_final.drop(columns='perfil')"
   ]
  },
  {
   "cell_type": "code",
   "execution_count": 15,
   "metadata": {},
   "outputs": [],
   "source": [
    "y_predict_final = classifier.predict(cliente_final)"
   ]
  },
  {
   "cell_type": "code",
   "execution_count": 16,
   "metadata": {},
   "outputs": [],
   "source": [
    "cliente_final['perfil'] = y_predict_final\n",
    "\n",
    "cliente_final = cliente_final.append(treino, sort=True)"
   ]
  },
  {
   "cell_type": "code",
   "execution_count": 18,
   "metadata": {},
   "outputs": [],
   "source": [
    "cliente_final.to_csv('resultado.csv', sep=';')"
   ]
  },
  {
   "cell_type": "code",
   "execution_count": null,
   "metadata": {},
   "outputs": [],
   "source": []
  }
 ],
 "metadata": {
  "kernelspec": {
   "display_name": "Python 3",
   "language": "python",
   "name": "python3"
  },
  "language_info": {
   "codemirror_mode": {
    "name": "ipython",
    "version": 3
   },
   "file_extension": ".py",
   "mimetype": "text/x-python",
   "name": "python",
   "nbconvert_exporter": "python",
   "pygments_lexer": "ipython3",
   "version": "3.7.0"
  }
 },
 "nbformat": 4,
 "nbformat_minor": 2
}
