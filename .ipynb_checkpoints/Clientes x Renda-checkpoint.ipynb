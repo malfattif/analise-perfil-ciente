{
 "cells": [
  {
   "cell_type": "code",
   "execution_count": 21,
   "metadata": {},
   "outputs": [],
   "source": [
    "import pandas as pd\n",
    "import numpy as np\n",
    "from sklearn.neighbors import KNeighborsClassifier\n",
    "from sklearn.model_selection import train_test_split\n",
    "from sklearn.metrics import confusion_matrix\n",
    "from sklearn.metrics import precision_score\n",
    "from sklearn.ensemble import RandomForestClassifier"
   ]
  },
  {
   "cell_type": "code",
   "execution_count": 2,
   "metadata": {},
   "outputs": [],
   "source": [
    "def print_confusion_matrix(y_test, y_predict):\n",
    "    mat = confusion_matrix(y_test, y_predict)\n",
    "    print(\"Matriz de confusão: \\n\"+str(mat))"
   ]
  },
  {
   "cell_type": "code",
   "execution_count": 3,
   "metadata": {},
   "outputs": [],
   "source": [
    "def  print_score(x_test, y_test, classifier):\n",
    "    acuracia = classifier.score(x_test, y_test)\n",
    "    print(\"Acurácia: \"+str(acuracia*100)+\"%\")"
   ]
  },
  {
   "cell_type": "code",
   "execution_count": 4,
   "metadata": {},
   "outputs": [],
   "source": [
    "clientes = pd.read_csv('clientes.csv', sep=';')"
   ]
  },
  {
   "cell_type": "code",
   "execution_count": 5,
   "metadata": {},
   "outputs": [],
   "source": [
    "clientes['ticket_medio'] = (clientes['valor_total_ticket'] / clientes['recorrencia']).round(decimals=2)\n",
    "\n",
    "clientes.drop(columns=['valor_total_ticket', 'recorrencia', 'cliente'], inplace=True)"
   ]
  },
  {
   "cell_type": "code",
   "execution_count": 6,
   "metadata": {},
   "outputs": [],
   "source": [
    "treino = clientes.dropna()"
   ]
  },
  {
   "cell_type": "code",
   "execution_count": 7,
   "metadata": {},
   "outputs": [],
   "source": [
    "y_treino = treino['perfil']\n",
    "x_treino = treino.drop(columns=['perfil'])"
   ]
  },
  {
   "cell_type": "code",
   "execution_count": 8,
   "metadata": {},
   "outputs": [],
   "source": [
    "x_train, x_test, y_train, y_test = train_test_split(x_treino, y_treino, test_size=0.3, random_state=0)"
   ]
  },
  {
   "cell_type": "code",
   "execution_count": 9,
   "metadata": {},
   "outputs": [],
   "source": [
    "#KNN CLASSIFIER\n",
    "knnClassifier = KNeighborsClassifier(n_neighbors=3) \n",
    "knnClassifier.fit(x_train, y_train)\n",
    "y_predict = knnClassifier.predict(x_test)"
   ]
  },
  {
   "cell_type": "code",
   "execution_count": 10,
   "metadata": {},
   "outputs": [],
   "source": [
    "y_predict = knnClassifier.predict(x_test)"
   ]
  },
  {
   "cell_type": "code",
   "execution_count": 11,
   "metadata": {},
   "outputs": [
    {
     "name": "stdout",
     "output_type": "stream",
     "text": [
      "------------------------- KNN -------------------------\n",
      "Matriz de confusão: \n",
      "[[15  0  0]\n",
      " [ 0 51 12]\n",
      " [ 0 11 61]]\n",
      "\n",
      "Acurácia: 84.66666666666667%\n",
      "------------------------- KNN -------------------------\n"
     ]
    }
   ],
   "source": [
    "print(\"------------------------- KNN -------------------------\")\n",
    "print_confusion_matrix(y_test, y_predict)\n",
    "print(\"\")\n",
    "print_score(x_test, y_test, knnClassifier)\n",
    "print(\"------------------------- KNN -------------------------\")"
   ]
  },
  {
   "cell_type": "code",
   "execution_count": 12,
   "metadata": {},
   "outputs": [],
   "source": [
    "#RANDOM FOREST CLASSIFIER\n",
    "classifier = RandomForestClassifier(n_estimators = 100)\n",
    "classifier = classifier.fit(x_train, y_train)\n",
    "y_predict = classifier.predict(x_test)"
   ]
  },
  {
   "cell_type": "code",
   "execution_count": 13,
   "metadata": {},
   "outputs": [
    {
     "name": "stdout",
     "output_type": "stream",
     "text": [
      "------------------------- RANDOM FOREST -------------------------\n",
      "Matriz de confusão: \n",
      "[[15  0  0]\n",
      " [ 0 57  6]\n",
      " [ 0  6 66]]\n",
      "\n",
      "Acurácia: 92.0%\n",
      "------------------------- RANDOM FOREST -------------------------\n"
     ]
    }
   ],
   "source": [
    "print(\"------------------------- RANDOM FOREST -------------------------\")\n",
    "print_confusion_matrix(y_test, y_predict)\n",
    "print(\"\")\n",
    "print_score(x_test,y_test, classifier)\n",
    "print(\"------------------------- RANDOM FOREST -------------------------\")"
   ]
  },
  {
   "cell_type": "code",
   "execution_count": 14,
   "metadata": {},
   "outputs": [],
   "source": [
    "cliente_final = clientes[ clientes['perfil'].isnull() ]\n",
    "cliente_final= cliente_final.drop(columns='perfil')"
   ]
  },
  {
   "cell_type": "code",
   "execution_count": 15,
   "metadata": {},
   "outputs": [],
   "source": [
    "y_predict_final = classifier.predict(cliente_final)"
   ]
  },
  {
   "cell_type": "code",
   "execution_count": 16,
   "metadata": {},
   "outputs": [],
   "source": [
    "cliente_final['perfil'] = y_predict_final\n",
    "\n",
    "cliente_final = cliente_final.append(treino, sort=True)"
   ]
  },
  {
   "cell_type": "code",
   "execution_count": 17,
   "metadata": {},
   "outputs": [],
   "source": [
    "cliente_final.to_csv('resultado.csv', sep=';')"
   ]
  },
  {
   "cell_type": "code",
   "execution_count": 62,
   "metadata": {},
   "outputs": [
    {
     "data": {
      "text/plain": [
       "Text(0.5,1,'System Monitor')"
      ]
     },
     "execution_count": 62,
     "metadata": {},
     "output_type": "execute_result"
    },
    {
     "data": {
      "image/png": "[encoded data removed]",
      "text/plain": [
       "<Figure size 432x288 with 1 Axes>"
      ]
     },
     "metadata": {},
     "output_type": "display_data"
    }
   ],
   "source": [
    "import matplotlib.pyplot as plt\n",
    "\n",
    "plt.show(block=False)\n",
    "\n",
    "fig, ax = plt.subplots()\n",
    "ind = np.arange(1, 4)\n",
    "\n",
    "pm, pc, pn = plt.bar(ind, 1000)\n",
    "\n",
    "pm.set_facecolor('r')\n",
    "pc.set_facecolor('g')\n",
    "pn.set_facecolor('b')\n",
    "\n",
    "a = cliente_final[ cliente_final['perfil']  == 'a' ]\n",
    "b = cliente_final[ cliente_final['perfil']  == 'b' ]\n",
    "c = cliente_final[ cliente_final['perfil']  == 'c' ]\n",
    "\n",
    "pm.set_height( len(a) )\n",
    "pc.set_height( len(b) )\n",
    "pn.set_height( len(c) )\n",
    "\n",
    "ax.set_xticks(ind)\n",
    "ax.set_xticklabels(['A', 'B', 'C'])\n",
    "ax.set_ylim([0, 70000])\n",
    "\n",
    "ax.set_ylabel('Percent usage')\n",
    "ax.set_title('System Monitor')"
   ]
  }
 ],
 "metadata": {
  "kernelspec": {
   "display_name": "Python 3",
   "language": "python",
   "name": "python3"
  },
  "language_info": {
   "codemirror_mode": {
    "name": "ipython",
    "version": 3
   },
   "file_extension": ".py",
   "mimetype": "text/x-python",
   "name": "python",
   "nbconvert_exporter": "python",
   "pygments_lexer": "ipython3",
   "version": "3.7.0"
  }
 },
 "nbformat": 4,
 "nbformat_minor": 2
}
